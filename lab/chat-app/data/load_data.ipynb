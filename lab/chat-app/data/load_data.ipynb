{
 "cells": [
  {
   "cell_type": "markdown",
   "metadata": {},
   "source": [
    "# Load Data\n",
    "\n",
    "### TOC\n",
    "- [0️⃣ Initialize notebook variables](#0)\n",
    "- [1️⃣ Create an Azure AI Search index and load data](#1)\n",
    "- [2️⃣ Create a Postgres database and load data](#2)"
   ]
  },
  {
   "cell_type": "markdown",
   "metadata": {},
   "source": [
    "<a id='0'></a>\n",
    "### 0️⃣ Initialize notebook variables\n",
    "\n",
    "- Resources will be suffixed by a unique string based on your subscription id.\n",
    "- Adjust the location parameters according your preferences and on the [product availability by Azure region.](https://azure.microsoft.com/explore/global-infrastructure/products-by-region/?cdn=disable&products=cognitive-services,api-management) \n",
    "- Adjust the OpenAI model and version according the [availability by region.](https://learn.microsoft.com/azure/ai-services/openai/concepts/models) "
   ]
  },
  {
   "cell_type": "code",
   "execution_count": 7,
   "metadata": {},
   "outputs": [
    {
     "data": {
      "text/plain": [
       "True"
      ]
     },
     "execution_count": 7,
     "metadata": {},
     "output_type": "execute_result"
    }
   ],
   "source": [
    "import os\n",
    "import random\n",
    "\n",
    "import psycopg2\n",
    "from dotenv import load_dotenv\n",
    "from faker import Faker\n",
    "\n",
    "load_dotenv(\"../python/.env\", override=True)"
   ]
  },
  {
   "cell_type": "markdown",
   "metadata": {},
   "source": [
    "<a id='2'></a>\n",
    "### 2️⃣ Load data to Postgres"
   ]
  },
  {
   "cell_type": "code",
   "execution_count": null,
   "metadata": {},
   "outputs": [
    {
     "ename": "IndexError",
     "evalue": "tuple index out of range",
     "output_type": "error",
     "traceback": [
      "\u001b[1;31m---------------------------------------------------------------------------\u001b[0m",
      "\u001b[1;31mIndexError\u001b[0m                                Traceback (most recent call last)",
      "Cell \u001b[1;32mIn[12], line 52\u001b[0m\n\u001b[0;32m     43\u001b[0m     amt \u001b[38;5;241m=\u001b[39m \u001b[38;5;28mround\u001b[39m(random\u001b[38;5;241m.\u001b[39muniform(\u001b[38;5;241m10\u001b[39m, \u001b[38;5;241m5000\u001b[39m), \u001b[38;5;241m2\u001b[39m)\n\u001b[0;32m     44\u001b[0m     record \u001b[38;5;241m=\u001b[39m (\n\u001b[0;32m     45\u001b[0m         fake\u001b[38;5;241m.\u001b[39mbban(),  \u001b[38;5;66;03m# account_numberer\u001b[39;00m\n\u001b[0;32m     46\u001b[0m         fake\u001b[38;5;241m.\u001b[39mname(),  \u001b[38;5;66;03m# customer_name),  # customer_name\u001b[39;00m\n\u001b[1;32m   (...)\u001b[0m\n\u001b[0;32m     50\u001b[0m         fake\u001b[38;5;241m.\u001b[39msentence()  \u001b[38;5;66;03m# description\u001b[39;00m\n\u001b[0;32m     51\u001b[0m     )\n\u001b[1;32m---> 52\u001b[0m     \u001b[43mcur\u001b[49m\u001b[38;5;241;43m.\u001b[39;49m\u001b[43mexecute\u001b[49m\u001b[43m(\u001b[49m\u001b[43minsert_query\u001b[49m\u001b[43m,\u001b[49m\u001b[43m \u001b[49m\u001b[43mrecord\u001b[49m\u001b[43m)\u001b[49m\n\u001b[0;32m     54\u001b[0m conn\u001b[38;5;241m.\u001b[39mcommit()\n\u001b[0;32m     55\u001b[0m cur\u001b[38;5;241m.\u001b[39mclose()\n",
      "\u001b[1;31mIndexError\u001b[0m: tuple index out of range"
     ]
    }
   ],
   "source": [
    "# Initialize Faker\n",
    "fake = Faker()\n",
    "\n",
    "# Database connection parameters from environment variables\n",
    "db_params = {\n",
    "    \"database\": os.getenv(\"AZURE_POSTGRES_DATABASE\"),\n",
    "    \"user\": f\"{os.getenv('AZURE_POSTGRES_USER')}\",\n",
    "    \"password\": os.getenv(\"AZURE_POSTGRES_PASSWORD\"),\n",
    "    \"host\": f\"{os.getenv('AZURE_POSTGRES_SERVER')}\", \n",
    "    \"port\": 5432,\n",
    "    \"sslmode\": \"require\"\n",
    "}\n",
    "\n",
    "# Connect to the PostgreSQL database\n",
    "conn = psycopg2.connect(**db_params)\n",
    "cur = conn.cursor()\n",
    "\n",
    "# Create the detallespoliza table if it doesn't exist\n",
    "create_table_query = \"\"\"\n",
    "CREATE TABLE IF NOT EXISTS bank_transactions (\n",
    "    transaction_id SERIAL PRIMARY KEY,\n",
    "    account_number VARCHAR(20),\n",
    "    customer_name VARCHAR(255),\n",
    "    transaction_date DATE,\n",
    "    transaction_type VARCHAR(10),\n",
    "    amount DECIMAL(10,2),\n",
    "    description TEXT\n",
    ");\n",
    "\"\"\"\n",
    "cur.execute(create_table_query)\n",
    "conn.commit()\n",
    "\n",
    "insert_query = \"\"\"\n",
    "INSERT INTO bank_transactions (\n",
    "    account_number, customer_name, transaction_date, transaction_type, amount, description\n",
    ") VALUES (\n",
    "    %s, %s, %s, %s, %s, %s\n",
    ");\n",
    "\"\"\"\n",
    "\n",
    "for _ in range(1000):\n",
    "    tran_type = fake.random_element(elements=[\"debit\", \"credit\"])\n",
    "    amt = round(random.uniform(10, 5000), 2)\n",
    "    record = (\n",
    "        fake.bban(),  # account_numberer\n",
    "        fake.name(),  # customer_name),  # customer_name\n",
    "        fake.date_between(start_date=\"-5y\", end_date=\"today\"),  # transaction_dateart_date=\"-5y\", end_date=\"today\"),  # transaction_date\n",
    "        tran_type,  # transaction_type\n",
    "        amt,  # amount\n",
    "        fake.sentence()  # description\n",
    "    )\n",
    "    cur.execute(insert_query, record)\n",
    "\n",
    "conn.commit()\n",
    "cur.close()\n",
    "conn.close()"
   ]
  },
  {
   "cell_type": "markdown",
   "metadata": {},
   "source": []
  },
  {
   "cell_type": "code",
   "execution_count": null,
   "metadata": {},
   "outputs": [],
   "source": []
  }
 ],
 "metadata": {
  "kernelspec": {
   "display_name": ".venv",
   "language": "python",
   "name": "python3"
  },
  "language_info": {
   "codemirror_mode": {
    "name": "ipython",
    "version": 3
   },
   "file_extension": ".py",
   "mimetype": "text/x-python",
   "name": "python",
   "nbconvert_exporter": "python",
   "pygments_lexer": "ipython3",
   "version": "3.11.0rc2"
  }
 },
 "nbformat": 4,
 "nbformat_minor": 2
}
